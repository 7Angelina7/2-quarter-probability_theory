{
 "cells": [
  {
   "cell_type": "markdown",
   "id": "5524147f",
   "metadata": {},
   "source": [
    "### Домашнее задание №8"
   ]
  },
  {
   "cell_type": "markdown",
   "id": "f6f0fcfa",
   "metadata": {},
   "source": [
    "#### Задание 1. Провести дисперсионный анализ для определения того, есть ли различия среднего роста среди взрослых футболистов, хоккеистов и штангистов. Даны значения роста в трех группах случайно выбранных спортсменов: Футболисты: 173, 175, 180, 178, 177, 185, 183, 182. Хоккеисты: 177, 179, 180, 188, 177, 172, 171, 184, 180. Штангисты: 172, 173, 169, 177, 166, 180, 178, 177, 172, 166, 170. alpha = 0.05."
   ]
  },
  {
   "cell_type": "code",
   "execution_count": 1,
   "id": "8be2a3bf",
   "metadata": {},
   "outputs": [],
   "source": [
    "import numpy as np"
   ]
  },
  {
   "cell_type": "code",
   "execution_count": 2,
   "id": "91759140",
   "metadata": {},
   "outputs": [
    {
     "name": "stdout",
     "output_type": "stream",
     "text": [
      "всего показателей 28\n"
     ]
    }
   ],
   "source": [
    "n1 = 8 #футболисты\n",
    "n2 = 9 #хоккеисты\n",
    "n3 = 11 #штангисты\n",
    "n = n1+n2+n3\n",
    "print(f'всего показателей {n}')"
   ]
  },
  {
   "cell_type": "code",
   "execution_count": 3,
   "id": "48059d39",
   "metadata": {},
   "outputs": [],
   "source": [
    "k = 3 #всего три группы"
   ]
  },
  {
   "cell_type": "code",
   "execution_count": 4,
   "id": "8b2b2550",
   "metadata": {},
   "outputs": [],
   "source": [
    "y1 = np.array([173, 175, 180, 178, 177, 185, 183, 182], dtype=np.float64)  #росты футболистов\n",
    "y2 = np.array([177, 179, 180, 188, 177, 172, 171, 184, 180], dtype=np.float64)  #росты хоккеистов\n",
    "y3 = np.array([172, 173, 169, 177, 166, 180, 178, 177, 172, 166, 170], dtype=np.float64)  #росты штангистов"
   ]
  },
  {
   "cell_type": "markdown",
   "id": "950fc092",
   "metadata": {},
   "source": [
    "#### Проведем дисперсионный анализ. \n",
    "#### Сначала найдем средние росты для каждой группы спортсменов:"
   ]
  },
  {
   "cell_type": "code",
   "execution_count": 5,
   "id": "85515098",
   "metadata": {},
   "outputs": [
    {
     "name": "stdout",
     "output_type": "stream",
     "text": [
      "средний рост у футболистов: 179.125\n"
     ]
    }
   ],
   "source": [
    "y1_mean = np.mean(y1)\n",
    "print(f'средний рост у футболистов: {y1_mean}')"
   ]
  },
  {
   "cell_type": "code",
   "execution_count": 6,
   "id": "fdbb05a2",
   "metadata": {},
   "outputs": [
    {
     "name": "stdout",
     "output_type": "stream",
     "text": [
      "средний рост у хоккеистов: 178.66666666666666\n"
     ]
    }
   ],
   "source": [
    "y2_mean = np.mean(y2)\n",
    "print(f'средний рост у хоккеистов: {y2_mean}')"
   ]
  },
  {
   "cell_type": "code",
   "execution_count": 7,
   "id": "4877d1aa",
   "metadata": {},
   "outputs": [
    {
     "name": "stdout",
     "output_type": "stream",
     "text": [
      "средний рост у штангистов: 172.72727272727272\n"
     ]
    }
   ],
   "source": [
    "y3_mean = np.mean(y3)\n",
    "print(f'средний рост у штангистов: {y3_mean}')"
   ]
  },
  {
   "cell_type": "markdown",
   "id": "7b319e5b",
   "metadata": {},
   "source": [
    "#### Средние росты разнятся. Докажим, что это различие статистически значимо:"
   ]
  },
  {
   "cell_type": "markdown",
   "id": "ea74ff84",
   "metadata": {},
   "source": [
    "#### Соберем все значения ростов в один массив."
   ]
  },
  {
   "cell_type": "code",
   "execution_count": 8,
   "id": "5c959fb2",
   "metadata": {},
   "outputs": [
    {
     "data": {
      "text/plain": [
       "array([173., 175., 180., 178., 177., 185., 183., 182., 177., 179., 180.,\n",
       "       188., 177., 172., 171., 184., 180., 172., 173., 169., 177., 166.,\n",
       "       180., 178., 177., 172., 166., 170.])"
      ]
     },
     "execution_count": 8,
     "metadata": {},
     "output_type": "execute_result"
    }
   ],
   "source": [
    "y_all = np.concatenate([y1,y2,y3])\n",
    "y_all"
   ]
  },
  {
   "cell_type": "markdown",
   "id": "2113d7b7",
   "metadata": {},
   "source": [
    "#### Найдем среднее значение роста по всем значением:"
   ]
  },
  {
   "cell_type": "code",
   "execution_count": 9,
   "id": "6d6b2ec4",
   "metadata": {},
   "outputs": [
    {
     "name": "stdout",
     "output_type": "stream",
     "text": [
      "среднее значение роста спортсменов: 176.46428571428572\n"
     ]
    }
   ],
   "source": [
    "y_mean = np.mean(y_all)\n",
    "print(f'среднее значение роста спортсменов: {y_mean}')"
   ]
  },
  {
   "cell_type": "markdown",
   "id": "a033abcc",
   "metadata": {},
   "source": [
    "#### Найдем $S^2$ — сумму квадратов отклонений наблюдений от общего среднего:"
   ]
  },
  {
   "cell_type": "code",
   "execution_count": 10,
   "id": "78ac1f76",
   "metadata": {},
   "outputs": [
    {
     "data": {
      "text/plain": [
       "830.9642857142854"
      ]
     },
     "execution_count": 10,
     "metadata": {},
     "output_type": "execute_result"
    }
   ],
   "source": [
    "s2 = np.sum((y_all - y_mean)**2)\n",
    "s2"
   ]
  },
  {
   "cell_type": "markdown",
   "id": "c7a0c295",
   "metadata": {},
   "source": [
    "#### Найдем $S^2_F$ - сумму квадратов отклонений средних групповых значений от общего среднего:"
   ]
  },
  {
   "cell_type": "code",
   "execution_count": 11,
   "id": "9c852601",
   "metadata": {},
   "outputs": [
    {
     "data": {
      "text/plain": [
       "253.9074675324678"
      ]
     },
     "execution_count": 11,
     "metadata": {},
     "output_type": "execute_result"
    }
   ],
   "source": [
    "s2_f = ((y1_mean - y_mean)**2) * n1 + ((y2_mean - y_mean)**2) * n2 + ((y3_mean - y_mean)**2) * n3\n",
    "s2_f"
   ]
  },
  {
   "cell_type": "markdown",
   "id": "740c4cb5",
   "metadata": {},
   "source": [
    "#### Найдем $S^2_{ост}$ — остаточную сумму квадратов отклонений:"
   ]
  },
  {
   "cell_type": "code",
   "execution_count": 20,
   "id": "906a7315",
   "metadata": {},
   "outputs": [
    {
     "data": {
      "text/plain": [
       "577.0568181818182"
      ]
     },
     "execution_count": 20,
     "metadata": {},
     "output_type": "execute_result"
    }
   ],
   "source": [
    "s2_residual = np.sum((y1 - y1_mean)**2)+np.sum((y2 - y2_mean)**2)+np.sum((y3 - y3_mean)**2)\n",
    "s2_residual"
   ]
  },
  {
   "cell_type": "markdown",
   "id": "01ada12e",
   "metadata": {},
   "source": [
    "####  $S^2 = S_F^2 + S_{ост}^2$:"
   ]
  },
  {
   "cell_type": "code",
   "execution_count": 22,
   "id": "25853120",
   "metadata": {},
   "outputs": [
    {
     "name": "stdout",
     "output_type": "stream",
     "text": [
      "830.9642857142854\n",
      "830.964285714286\n"
     ]
    }
   ],
   "source": [
    "print(s2)\n",
    "print(s2_f + s2_residual)"
   ]
  },
  {
   "cell_type": "markdown",
   "id": "faa4c95d",
   "metadata": {},
   "source": [
    "#### Найдем общую дисперсию:"
   ]
  },
  {
   "cell_type": "code",
   "execution_count": 23,
   "id": "00458068",
   "metadata": {},
   "outputs": [
    {
     "data": {
      "text/plain": [
       "30.776455026455015"
      ]
     },
     "execution_count": 23,
     "metadata": {},
     "output_type": "execute_result"
    }
   ],
   "source": [
    "sigma2_general = s2 / (n-1)\n",
    "sigma2_general"
   ]
  },
  {
   "cell_type": "markdown",
   "id": "f60271aa",
   "metadata": {},
   "source": [
    "#### Найдем факторную дисперсию:"
   ]
  },
  {
   "cell_type": "code",
   "execution_count": 24,
   "id": "1a484c00",
   "metadata": {},
   "outputs": [
    {
     "data": {
      "text/plain": [
       "126.9537337662339"
      ]
     },
     "execution_count": 24,
     "metadata": {},
     "output_type": "execute_result"
    }
   ],
   "source": [
    "sigma2_f = s2_f / (k - 1)\n",
    "sigma2_f"
   ]
  },
  {
   "cell_type": "markdown",
   "id": "4e55d8ac",
   "metadata": {},
   "source": [
    "#### Найдем остаточную дисперсию:"
   ]
  },
  {
   "cell_type": "code",
   "execution_count": 25,
   "id": "51ade1aa",
   "metadata": {},
   "outputs": [
    {
     "data": {
      "text/plain": [
       "23.08227272727273"
      ]
     },
     "execution_count": 25,
     "metadata": {},
     "output_type": "execute_result"
    }
   ],
   "source": [
    "sigma2_residual = s2_residual / (n - k)\n",
    "sigma2_residual"
   ]
  },
  {
   "cell_type": "markdown",
   "id": "f4f84d0b",
   "metadata": {},
   "source": [
    "#### Вычислим $F_H$:"
   ]
  },
  {
   "cell_type": "code",
   "execution_count": 26,
   "id": "e8142656",
   "metadata": {},
   "outputs": [
    {
     "data": {
      "text/plain": [
       "5.500053450812598"
      ]
     },
     "execution_count": 26,
     "metadata": {},
     "output_type": "execute_result"
    }
   ],
   "source": [
    "F_h = sigma2_f/sigma2_residual\n",
    "F_h"
   ]
  },
  {
   "cell_type": "markdown",
   "id": "a335465f",
   "metadata": {},
   "source": [
    "#### Найдем значение $F_{крит}$ в таблице критических точек распределения Фишера-Снедекора для заданного уровня значимости $\\alpha = 0.05$ и двух степеней свободы: \n",
    "\n",
    "$df_{межд} = k - 1 = 3 - 1 = 2$ и $df_{внутр} = n - k = 28 - 3 = 25$."
   ]
  },
  {
   "cell_type": "markdown",
   "id": "982254ca",
   "metadata": {},
   "source": [
    "#### Для данных значений $F_{крит} = 3.38$. Так как $F_H > F_{крит}$, различие средних ростов в трех группах статистически значимо."
   ]
  },
  {
   "cell_type": "markdown",
   "id": "0d9b83f0",
   "metadata": {},
   "source": [
    "#### Также вычислим эмпирическое корреляционное отношение $\\eta^2$:"
   ]
  },
  {
   "cell_type": "code",
   "execution_count": 27,
   "id": "5a7f51ef",
   "metadata": {},
   "outputs": [
    {
     "data": {
      "text/plain": [
       "0.30555761769498"
      ]
     },
     "execution_count": 27,
     "metadata": {},
     "output_type": "execute_result"
    }
   ],
   "source": [
    "eta2 = s2_f / s2\n",
    "eta2"
   ]
  },
  {
   "cell_type": "markdown",
   "id": "cd0eeb80",
   "metadata": {},
   "source": [
    "#### Значение $\\eta^2$ близко к 0.3 — значит,  по шкале Чеддока связь умеренная."
   ]
  },
  {
   "cell_type": "markdown",
   "id": "d0d8d8a6",
   "metadata": {},
   "source": [
    "### Вывод: По расчетам гипотиз различие средних ростов статистически значимо. По расчетам эмпирического корреляционного отношения различие средних ростов статистически не значимо. Требуется дополнительный анализ."
   ]
  }
 ],
 "metadata": {
  "kernelspec": {
   "display_name": "Python 3 (ipykernel)",
   "language": "python",
   "name": "python3"
  },
  "language_info": {
   "codemirror_mode": {
    "name": "ipython",
    "version": 3
   },
   "file_extension": ".py",
   "mimetype": "text/x-python",
   "name": "python",
   "nbconvert_exporter": "python",
   "pygments_lexer": "ipython3",
   "version": "3.9.7"
  }
 },
 "nbformat": 4,
 "nbformat_minor": 5
}
