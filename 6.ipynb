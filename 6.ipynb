{
 "cells": [
  {
   "cell_type": "markdown",
   "id": "d5f2cb57",
   "metadata": {},
   "source": [
    "### Задание 1"
   ]
  },
  {
   "cell_type": "code",
   "execution_count": 1,
   "id": "6d462d20",
   "metadata": {},
   "outputs": [],
   "source": [
    "import numpy as np\n",
    "import scipy.stats as stats\n",
    "from statsmodels.stats.weightstats import _tconfint_generic as t_stat\n",
    "from statsmodels.stats.weightstats import _zconfint_generic as z_stat"
   ]
  },
  {
   "cell_type": "code",
   "execution_count": 2,
   "id": "9b8d9310",
   "metadata": {},
   "outputs": [],
   "source": [
    "zp = np.array([35,45,190,200,40,70,54,150,120,110])\n",
    "ks = np.array([401,574,874,919,459,739,653,902,746,832])"
   ]
  },
  {
   "cell_type": "code",
   "execution_count": 3,
   "id": "c99b6943",
   "metadata": {},
   "outputs": [],
   "source": [
    "x_mean = zp.mean()\n",
    "y_mean = ks.mean()\n",
    "xy_mean = (zp * ks).mean()"
   ]
  },
  {
   "cell_type": "code",
   "execution_count": 9,
   "id": "424eebb1",
   "metadata": {},
   "outputs": [
    {
     "data": {
      "text/plain": [
       "9157.839999999997"
      ]
     },
     "execution_count": 9,
     "metadata": {},
     "output_type": "execute_result"
    }
   ],
   "source": [
    "cov_ks = xy_mean - x_mean * y_mean\n",
    "cov_ks"
   ]
  },
  {
   "cell_type": "code",
   "execution_count": 10,
   "id": "1b5c67a4",
   "metadata": {},
   "outputs": [],
   "source": [
    "x_std = zp.std()\n",
    "y_std = ks.std()"
   ]
  },
  {
   "cell_type": "code",
   "execution_count": 11,
   "id": "3b3ff066",
   "metadata": {},
   "outputs": [
    {
     "data": {
      "text/plain": [
       "0.8874900920739158"
      ]
     },
     "execution_count": 11,
     "metadata": {},
     "output_type": "execute_result"
    }
   ],
   "source": [
    "corr_ks = cov_ks / (x_std*y_std)\n",
    "corr_ks"
   ]
  },
  {
   "cell_type": "markdown",
   "id": "ead01b8c",
   "metadata": {},
   "source": [
    "### Задание 2"
   ]
  },
  {
   "cell_type": "code",
   "execution_count": 12,
   "id": "69bcc36d",
   "metadata": {},
   "outputs": [],
   "source": [
    "x = np.array([131,125,115,122,131,115,107,99,125,111])\n",
    "x_mean = x.mean()\n",
    "std_x = x.std(ddof=1)\n",
    "x_mean_std = std_x / (np.sqrt(len(x)))"
   ]
  },
  {
   "cell_type": "code",
   "execution_count": 13,
   "id": "7992c9a1",
   "metadata": {},
   "outputs": [
    {
     "data": {
      "text/plain": [
       "(110.55608365158724, 125.64391634841274)"
      ]
     },
     "execution_count": 13,
     "metadata": {},
     "output_type": "execute_result"
    }
   ],
   "source": [
    "t_stat(x_mean, x_mean_std, len(x) - 1, 0.05, 'two-sided')"
   ]
  },
  {
   "cell_type": "markdown",
   "id": "73101299",
   "metadata": {},
   "source": [
    "### Задание 3"
   ]
  },
  {
   "cell_type": "code",
   "execution_count": 16,
   "id": "5ddea2ea",
   "metadata": {},
   "outputs": [],
   "source": [
    "n = 27\n",
    "x_mean = 174.2\n",
    "x_std = np.sqrt(25)\n",
    "x_mean_std = x_std / np.sqrt(n)"
   ]
  },
  {
   "cell_type": "code",
   "execution_count": 18,
   "id": "d7d03ce8",
   "metadata": {},
   "outputs": [
    {
     "data": {
      "text/plain": [
       "(172.3140237765397, 176.08597622346028)"
      ]
     },
     "execution_count": 18,
     "metadata": {},
     "output_type": "execute_result"
    }
   ],
   "source": [
    "z_stat(x_mean, x_mean_std, 0.05, 'two-sided')"
   ]
  }
 ],
 "metadata": {
  "kernelspec": {
   "display_name": "Python 3 (ipykernel)",
   "language": "python",
   "name": "python3"
  },
  "language_info": {
   "codemirror_mode": {
    "name": "ipython",
    "version": 3
   },
   "file_extension": ".py",
   "mimetype": "text/x-python",
   "name": "python",
   "nbconvert_exporter": "python",
   "pygments_lexer": "ipython3",
   "version": "3.9.7"
  }
 },
 "nbformat": 4,
 "nbformat_minor": 5
}
